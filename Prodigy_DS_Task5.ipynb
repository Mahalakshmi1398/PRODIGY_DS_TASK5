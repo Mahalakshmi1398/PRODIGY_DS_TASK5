{
 "cells": [
  {
   "cell_type": "markdown",
   "metadata": {},
   "source": [
    "## Prodigy Internship by Mahalakshmi\n",
    "## Task 5 - U.S Accident dataset\n",
    "## Problem Statement\n",
    "Analyse traffic accident data to identify pattern related to road condition,weather,and time of day.Visualoze accident Hotspots and contributing factors"
   ]
  },
  {
   "cell_type": "markdown",
   "metadata": {},
   "source": [
    "## Understanding the Dataset"
   ]
  },
  {
   "cell_type": "code",
   "execution_count": 1,
   "metadata": {
    "_cell_guid": "b1076dfc-b9ad-4769-8c92-a6c4dae69d19",
    "_uuid": "8f2839f25d086af736a60e9eeb907d3b93b6e0e5",
    "execution": {
     "iopub.execute_input": "2023-11-01T01:49:11.060127Z",
     "iopub.status.busy": "2023-11-01T01:49:11.059591Z",
     "iopub.status.idle": "2023-11-01T01:49:11.066543Z",
     "shell.execute_reply": "2023-11-01T01:49:11.065438Z",
     "shell.execute_reply.started": "2023-11-01T01:49:11.060081Z"
    }
   },
   "outputs": [],
   "source": [
    "import pandas as pd\n",
    "import numpy as np\n",
    "import matplotlib.pyplot as plt\n",
    "import seaborn as sns\n",
    "import datetime as dt"
   ]
  },
  {
   "cell_type": "code",
   "execution_count": 3,
   "metadata": {
    "_cell_guid": "79c7e3d0-c299-4dcb-8224-4455121ee9b0",
    "_uuid": "d629ff2d2480ee46fbb7e2d37f6b5fab8052498a",
    "execution": {
     "iopub.execute_input": "2023-11-01T01:49:11.069026Z",
     "iopub.status.busy": "2023-11-01T01:49:11.068403Z",
     "iopub.status.idle": "2023-11-01T01:50:48.670192Z",
     "shell.execute_reply": "2023-11-01T01:50:48.668987Z",
     "shell.execute_reply.started": "2023-11-01T01:49:11.068983Z"
    }
   },
   "outputs": [],
   "source": [
    "dataset = pd.read_csv('US_Accidents_March23.csv')"
   ]
  },
  {
   "cell_type": "code",
   "execution_count": 22,
   "metadata": {
    "execution": {
     "iopub.execute_input": "2023-11-01T01:50:48.673777Z",
     "iopub.status.busy": "2023-11-01T01:50:48.673393Z",
     "iopub.status.idle": "2023-11-01T01:50:48.682183Z",
     "shell.execute_reply": "2023-11-01T01:50:48.681055Z",
     "shell.execute_reply.started": "2023-11-01T01:50:48.673741Z"
    }
   },
   "outputs": [
    {
     "data": {
      "text/plain": [
       "Index(['ID', 'Source', 'Severity', 'Start_Time', 'End_Time', 'Start_Lat',\n",
       "       'Start_Lng', 'End_Lat', 'End_Lng', 'Distance(mi)', 'Description',\n",
       "       'Street', 'City', 'County', 'State', 'Zipcode', 'Country', 'Timezone',\n",
       "       'Airport_Code', 'Weather_Timestamp', 'Temperature(F)', 'Wind_Chill(F)',\n",
       "       'Humidity(%)', 'Pressure(in)', 'Visibility(mi)', 'Wind_Direction',\n",
       "       'Wind_Speed(mph)', 'Precipitation(in)', 'Weather_Condition', 'Amenity',\n",
       "       'Bump', 'Crossing', 'Give_Way', 'Junction', 'No_Exit', 'Railway',\n",
       "       'Roundabout', 'Station', 'Stop', 'Traffic_Calming', 'Traffic_Signal',\n",
       "       'Turning_Loop', 'Sunrise_Sunset', 'Civil_Twilight', 'Nautical_Twilight',\n",
       "       'Astronomical_Twilight'],\n",
       "      dtype='object')"
      ]
     },
     "execution_count": 22,
     "metadata": {},
     "output_type": "execute_result"
    }
   ],
   "source": [
    "dataset.columns"
   ]
  },
  {
   "cell_type": "code",
   "execution_count": 23,
   "metadata": {
    "execution": {
     "iopub.execute_input": "2023-11-01T01:50:48.685206Z",
     "iopub.status.busy": "2023-11-01T01:50:48.684826Z",
     "iopub.status.idle": "2023-11-01T01:50:48.700016Z",
     "shell.execute_reply": "2023-11-01T01:50:48.698507Z",
     "shell.execute_reply.started": "2023-11-01T01:50:48.685169Z"
    }
   },
   "outputs": [
    {
     "data": {
      "text/plain": [
       "(7728394, 46)"
      ]
     },
     "execution_count": 23,
     "metadata": {},
     "output_type": "execute_result"
    }
   ],
   "source": [
    "dataset.shape"
   ]
  },
  {
   "cell_type": "code",
   "execution_count": 24,
   "metadata": {
    "execution": {
     "iopub.execute_input": "2023-11-01T01:50:48.702481Z",
     "iopub.status.busy": "2023-11-01T01:50:48.701901Z",
     "iopub.status.idle": "2023-11-01T01:51:06.815478Z",
     "shell.execute_reply": "2023-11-01T01:51:06.814225Z",
     "shell.execute_reply.started": "2023-11-01T01:50:48.702427Z"
    }
   },
   "outputs": [
    {
     "data": {
      "text/plain": [
       "ID                        0.000000\n",
       "Source                    0.000000\n",
       "Severity                  0.000000\n",
       "Start_Time                0.000000\n",
       "End_Time                  0.000000\n",
       "Start_Lat                 0.000000\n",
       "Start_Lng                 0.000000\n",
       "End_Lat                  44.029355\n",
       "End_Lng                  44.029355\n",
       "Distance(mi)              0.000000\n",
       "Description               0.000065\n",
       "Street                    0.140637\n",
       "City                      0.003274\n",
       "County                    0.000000\n",
       "State                     0.000000\n",
       "Zipcode                   0.024779\n",
       "Country                   0.000000\n",
       "Timezone                  0.101030\n",
       "Airport_Code              0.292881\n",
       "Weather_Timestamp         1.555666\n",
       "Temperature(F)            2.120143\n",
       "Wind_Chill(F)            25.865904\n",
       "Humidity(%)               2.253301\n",
       "Pressure(in)              1.820288\n",
       "Visibility(mi)            2.291524\n",
       "Wind_Direction            2.267043\n",
       "Wind_Speed(mph)           7.391355\n",
       "Precipitation(in)        28.512858\n",
       "Weather_Condition         2.244438\n",
       "Amenity                   0.000000\n",
       "Bump                      0.000000\n",
       "Crossing                  0.000000\n",
       "Give_Way                  0.000000\n",
       "Junction                  0.000000\n",
       "No_Exit                   0.000000\n",
       "Railway                   0.000000\n",
       "Roundabout                0.000000\n",
       "Station                   0.000000\n",
       "Stop                      0.000000\n",
       "Traffic_Calming           0.000000\n",
       "Traffic_Signal            0.000000\n",
       "Turning_Loop              0.000000\n",
       "Sunrise_Sunset            0.300787\n",
       "Civil_Twilight            0.300787\n",
       "Nautical_Twilight         0.300787\n",
       "Astronomical_Twilight     0.300787\n",
       "dtype: float64"
      ]
     },
     "execution_count": 24,
     "metadata": {},
     "output_type": "execute_result"
    }
   ],
   "source": [
    "dataset.isnull().sum()*100/len(dataset)"
   ]
  },
  {
   "cell_type": "code",
   "execution_count": 25,
   "metadata": {
    "execution": {
     "iopub.execute_input": "2023-11-01T01:51:06.818183Z",
     "iopub.status.busy": "2023-11-01T01:51:06.817643Z",
     "iopub.status.idle": "2023-11-01T01:51:10.143523Z",
     "shell.execute_reply": "2023-11-01T01:51:10.142303Z",
     "shell.execute_reply.started": "2023-11-01T01:51:06.818126Z"
    }
   },
   "outputs": [
    {
     "data": {
      "text/plain": [
       "Index(['Source', 'Severity', 'Start_Time', 'End_Time', 'Distance(mi)',\n",
       "       'Description', 'Street', 'City', 'County', 'State', 'Zipcode',\n",
       "       'Country', 'Timezone', 'Airport_Code', 'Weather_Timestamp',\n",
       "       'Temperature(F)', 'Humidity(%)', 'Pressure(in)', 'Visibility(mi)',\n",
       "       'Wind_Direction', 'Wind_Speed(mph)', 'Weather_Condition', 'Amenity',\n",
       "       'Bump', 'Crossing', 'Give_Way', 'Junction', 'No_Exit', 'Railway',\n",
       "       'Roundabout', 'Station', 'Stop', 'Traffic_Calming', 'Traffic_Signal',\n",
       "       'Turning_Loop', 'Sunrise_Sunset', 'Civil_Twilight', 'Nautical_Twilight',\n",
       "       'Astronomical_Twilight'],\n",
       "      dtype='object')"
      ]
     },
     "execution_count": 25,
     "metadata": {},
     "output_type": "execute_result"
    }
   ],
   "source": [
    "# Dropping columns with less percentage of data\n",
    "dataset = dataset.drop(columns=['End_Lat','End_Lng','Wind_Chill(F)','Precipitation(in)','ID','Start_Lat','Start_Lng'],axis=1)\n",
    "dataset.columns"
   ]
  },
  {
   "cell_type": "code",
   "execution_count": 26,
   "metadata": {
    "execution": {
     "iopub.execute_input": "2023-11-01T01:51:10.145965Z",
     "iopub.status.busy": "2023-11-01T01:51:10.145455Z",
     "iopub.status.idle": "2023-11-01T01:51:10.916576Z",
     "shell.execute_reply": "2023-11-01T01:51:10.915410Z",
     "shell.execute_reply.started": "2023-11-01T01:51:10.145913Z"
    }
   },
   "outputs": [
    {
     "data": {
      "text/plain": [
       "array(['Source2', 'Source3', 'Source1'], dtype=object)"
      ]
     },
     "execution_count": 26,
     "metadata": {},
     "output_type": "execute_result"
    }
   ],
   "source": [
    "dataset.Source.unique()"
   ]
  },
  {
   "cell_type": "code",
   "execution_count": 27,
   "metadata": {
    "execution": {
     "iopub.execute_input": "2023-11-01T01:51:10.918416Z",
     "iopub.status.busy": "2023-11-01T01:51:10.918023Z",
     "iopub.status.idle": "2023-11-01T01:51:23.196783Z",
     "shell.execute_reply": "2023-11-01T01:51:23.195784Z",
     "shell.execute_reply.started": "2023-11-01T01:51:10.918378Z"
    }
   },
   "outputs": [
    {
     "data": {
      "text/html": [
       "<div>\n",
       "<style scoped>\n",
       "    .dataframe tbody tr th:only-of-type {\n",
       "        vertical-align: middle;\n",
       "    }\n",
       "\n",
       "    .dataframe tbody tr th {\n",
       "        vertical-align: top;\n",
       "    }\n",
       "\n",
       "    .dataframe thead th {\n",
       "        text-align: right;\n",
       "    }\n",
       "</style>\n",
       "<table border=\"1\" class=\"dataframe\">\n",
       "  <thead>\n",
       "    <tr style=\"text-align: right;\">\n",
       "      <th></th>\n",
       "      <th>Source</th>\n",
       "      <th>Severity</th>\n",
       "      <th>Start_Time</th>\n",
       "      <th>End_Time</th>\n",
       "      <th>Distance(mi)</th>\n",
       "      <th>Description</th>\n",
       "      <th>Street</th>\n",
       "      <th>City</th>\n",
       "      <th>County</th>\n",
       "      <th>State</th>\n",
       "      <th>...</th>\n",
       "      <th>Roundabout</th>\n",
       "      <th>Station</th>\n",
       "      <th>Stop</th>\n",
       "      <th>Traffic_Calming</th>\n",
       "      <th>Traffic_Signal</th>\n",
       "      <th>Turning_Loop</th>\n",
       "      <th>Sunrise_Sunset</th>\n",
       "      <th>Civil_Twilight</th>\n",
       "      <th>Nautical_Twilight</th>\n",
       "      <th>Astronomical_Twilight</th>\n",
       "    </tr>\n",
       "  </thead>\n",
       "  <tbody>\n",
       "    <tr>\n",
       "      <th>0</th>\n",
       "      <td>Source2</td>\n",
       "      <td>3</td>\n",
       "      <td>2016-02-08 05:46:00</td>\n",
       "      <td>2016-02-08 11:00:00</td>\n",
       "      <td>0.01</td>\n",
       "      <td>Right lane blocked due to accident on I-70 Eas...</td>\n",
       "      <td>I-70 E</td>\n",
       "      <td>Dayton</td>\n",
       "      <td>Montgomery</td>\n",
       "      <td>OH</td>\n",
       "      <td>...</td>\n",
       "      <td>False</td>\n",
       "      <td>False</td>\n",
       "      <td>False</td>\n",
       "      <td>False</td>\n",
       "      <td>False</td>\n",
       "      <td>False</td>\n",
       "      <td>Night</td>\n",
       "      <td>Night</td>\n",
       "      <td>Night</td>\n",
       "      <td>Night</td>\n",
       "    </tr>\n",
       "    <tr>\n",
       "      <th>1</th>\n",
       "      <td>Source2</td>\n",
       "      <td>2</td>\n",
       "      <td>2016-02-08 06:07:59</td>\n",
       "      <td>2016-02-08 06:37:59</td>\n",
       "      <td>0.01</td>\n",
       "      <td>Accident on Brice Rd at Tussing Rd. Expect del...</td>\n",
       "      <td>Brice Rd</td>\n",
       "      <td>Reynoldsburg</td>\n",
       "      <td>Franklin</td>\n",
       "      <td>OH</td>\n",
       "      <td>...</td>\n",
       "      <td>False</td>\n",
       "      <td>False</td>\n",
       "      <td>False</td>\n",
       "      <td>False</td>\n",
       "      <td>False</td>\n",
       "      <td>False</td>\n",
       "      <td>Night</td>\n",
       "      <td>Night</td>\n",
       "      <td>Night</td>\n",
       "      <td>Day</td>\n",
       "    </tr>\n",
       "    <tr>\n",
       "      <th>2</th>\n",
       "      <td>Source2</td>\n",
       "      <td>2</td>\n",
       "      <td>2016-02-08 06:49:27</td>\n",
       "      <td>2016-02-08 07:19:27</td>\n",
       "      <td>0.01</td>\n",
       "      <td>Accident on OH-32 State Route 32 Westbound at ...</td>\n",
       "      <td>State Route 32</td>\n",
       "      <td>Williamsburg</td>\n",
       "      <td>Clermont</td>\n",
       "      <td>OH</td>\n",
       "      <td>...</td>\n",
       "      <td>False</td>\n",
       "      <td>False</td>\n",
       "      <td>False</td>\n",
       "      <td>False</td>\n",
       "      <td>True</td>\n",
       "      <td>False</td>\n",
       "      <td>Night</td>\n",
       "      <td>Night</td>\n",
       "      <td>Day</td>\n",
       "      <td>Day</td>\n",
       "    </tr>\n",
       "    <tr>\n",
       "      <th>3</th>\n",
       "      <td>Source2</td>\n",
       "      <td>3</td>\n",
       "      <td>2016-02-08 07:23:34</td>\n",
       "      <td>2016-02-08 07:53:34</td>\n",
       "      <td>0.01</td>\n",
       "      <td>Accident on I-75 Southbound at Exits 52 52B US...</td>\n",
       "      <td>I-75 S</td>\n",
       "      <td>Dayton</td>\n",
       "      <td>Montgomery</td>\n",
       "      <td>OH</td>\n",
       "      <td>...</td>\n",
       "      <td>False</td>\n",
       "      <td>False</td>\n",
       "      <td>False</td>\n",
       "      <td>False</td>\n",
       "      <td>False</td>\n",
       "      <td>False</td>\n",
       "      <td>Night</td>\n",
       "      <td>Day</td>\n",
       "      <td>Day</td>\n",
       "      <td>Day</td>\n",
       "    </tr>\n",
       "    <tr>\n",
       "      <th>4</th>\n",
       "      <td>Source2</td>\n",
       "      <td>2</td>\n",
       "      <td>2016-02-08 07:39:07</td>\n",
       "      <td>2016-02-08 08:09:07</td>\n",
       "      <td>0.01</td>\n",
       "      <td>Accident on McEwen Rd at OH-725 Miamisburg Cen...</td>\n",
       "      <td>Miamisburg Centerville Rd</td>\n",
       "      <td>Dayton</td>\n",
       "      <td>Montgomery</td>\n",
       "      <td>OH</td>\n",
       "      <td>...</td>\n",
       "      <td>False</td>\n",
       "      <td>False</td>\n",
       "      <td>False</td>\n",
       "      <td>False</td>\n",
       "      <td>True</td>\n",
       "      <td>False</td>\n",
       "      <td>Day</td>\n",
       "      <td>Day</td>\n",
       "      <td>Day</td>\n",
       "      <td>Day</td>\n",
       "    </tr>\n",
       "  </tbody>\n",
       "</table>\n",
       "<p>5 rows × 39 columns</p>\n",
       "</div>"
      ],
      "text/plain": [
       "    Source  Severity          Start_Time            End_Time  Distance(mi)  \\\n",
       "0  Source2         3 2016-02-08 05:46:00 2016-02-08 11:00:00          0.01   \n",
       "1  Source2         2 2016-02-08 06:07:59 2016-02-08 06:37:59          0.01   \n",
       "2  Source2         2 2016-02-08 06:49:27 2016-02-08 07:19:27          0.01   \n",
       "3  Source2         3 2016-02-08 07:23:34 2016-02-08 07:53:34          0.01   \n",
       "4  Source2         2 2016-02-08 07:39:07 2016-02-08 08:09:07          0.01   \n",
       "\n",
       "                                         Description  \\\n",
       "0  Right lane blocked due to accident on I-70 Eas...   \n",
       "1  Accident on Brice Rd at Tussing Rd. Expect del...   \n",
       "2  Accident on OH-32 State Route 32 Westbound at ...   \n",
       "3  Accident on I-75 Southbound at Exits 52 52B US...   \n",
       "4  Accident on McEwen Rd at OH-725 Miamisburg Cen...   \n",
       "\n",
       "                      Street          City      County State  ... Roundabout  \\\n",
       "0                     I-70 E        Dayton  Montgomery    OH  ...      False   \n",
       "1                   Brice Rd  Reynoldsburg    Franklin    OH  ...      False   \n",
       "2             State Route 32  Williamsburg    Clermont    OH  ...      False   \n",
       "3                     I-75 S        Dayton  Montgomery    OH  ...      False   \n",
       "4  Miamisburg Centerville Rd        Dayton  Montgomery    OH  ...      False   \n",
       "\n",
       "  Station   Stop Traffic_Calming Traffic_Signal  Turning_Loop  Sunrise_Sunset  \\\n",
       "0   False  False           False          False         False           Night   \n",
       "1   False  False           False          False         False           Night   \n",
       "2   False  False           False           True         False           Night   \n",
       "3   False  False           False          False         False           Night   \n",
       "4   False  False           False           True         False             Day   \n",
       "\n",
       "   Civil_Twilight  Nautical_Twilight Astronomical_Twilight  \n",
       "0           Night              Night                 Night  \n",
       "1           Night              Night                   Day  \n",
       "2           Night                Day                   Day  \n",
       "3             Day                Day                   Day  \n",
       "4             Day                Day                   Day  \n",
       "\n",
       "[5 rows x 39 columns]"
      ]
     },
     "execution_count": 27,
     "metadata": {},
     "output_type": "execute_result"
    }
   ],
   "source": [
    "#Converting Time figures from abject type to datetime64 type\n",
    "dataset['Start_Time']=pd.to_datetime(dataset['Start_Time'],format='%Y-%m-%d %H:%M:%S')\n",
    "dataset['End_Time']=pd.to_datetime(dataset['End_Time'],format='%Y-%m-%d %H:%M:%S')\n",
    "dataset.head()"
   ]
  },
  {
   "cell_type": "code",
   "execution_count": 28,
   "metadata": {
    "execution": {
     "iopub.execute_input": "2023-11-01T01:51:23.198539Z",
     "iopub.status.busy": "2023-11-01T01:51:23.198141Z",
     "iopub.status.idle": "2023-11-01T01:51:23.462051Z",
     "shell.execute_reply": "2023-11-01T01:51:23.460907Z",
     "shell.execute_reply.started": "2023-11-01T01:51:23.198502Z"
    }
   },
   "outputs": [
    {
     "data": {
      "text/html": [
       "<div>\n",
       "<style scoped>\n",
       "    .dataframe tbody tr th:only-of-type {\n",
       "        vertical-align: middle;\n",
       "    }\n",
       "\n",
       "    .dataframe tbody tr th {\n",
       "        vertical-align: top;\n",
       "    }\n",
       "\n",
       "    .dataframe thead th {\n",
       "        text-align: right;\n",
       "    }\n",
       "</style>\n",
       "<table border=\"1\" class=\"dataframe\">\n",
       "  <thead>\n",
       "    <tr style=\"text-align: right;\">\n",
       "      <th></th>\n",
       "      <th>Source</th>\n",
       "      <th>Severity</th>\n",
       "      <th>Start_Time</th>\n",
       "      <th>End_Time</th>\n",
       "      <th>Distance(mi)</th>\n",
       "      <th>Description</th>\n",
       "      <th>Street</th>\n",
       "      <th>City</th>\n",
       "      <th>County</th>\n",
       "      <th>State</th>\n",
       "      <th>...</th>\n",
       "      <th>Station</th>\n",
       "      <th>Stop</th>\n",
       "      <th>Traffic_Calming</th>\n",
       "      <th>Traffic_Signal</th>\n",
       "      <th>Turning_Loop</th>\n",
       "      <th>Sunrise_Sunset</th>\n",
       "      <th>Civil_Twilight</th>\n",
       "      <th>Nautical_Twilight</th>\n",
       "      <th>Astronomical_Twilight</th>\n",
       "      <th>elapsed_time</th>\n",
       "    </tr>\n",
       "  </thead>\n",
       "  <tbody>\n",
       "    <tr>\n",
       "      <th>0</th>\n",
       "      <td>Source2</td>\n",
       "      <td>3</td>\n",
       "      <td>2016-02-08 05:46:00</td>\n",
       "      <td>2016-02-08 11:00:00</td>\n",
       "      <td>0.01</td>\n",
       "      <td>Right lane blocked due to accident on I-70 Eas...</td>\n",
       "      <td>I-70 E</td>\n",
       "      <td>Dayton</td>\n",
       "      <td>Montgomery</td>\n",
       "      <td>OH</td>\n",
       "      <td>...</td>\n",
       "      <td>False</td>\n",
       "      <td>False</td>\n",
       "      <td>False</td>\n",
       "      <td>False</td>\n",
       "      <td>False</td>\n",
       "      <td>Night</td>\n",
       "      <td>Night</td>\n",
       "      <td>Night</td>\n",
       "      <td>Night</td>\n",
       "      <td>314.0</td>\n",
       "    </tr>\n",
       "    <tr>\n",
       "      <th>1</th>\n",
       "      <td>Source2</td>\n",
       "      <td>2</td>\n",
       "      <td>2016-02-08 06:07:59</td>\n",
       "      <td>2016-02-08 06:37:59</td>\n",
       "      <td>0.01</td>\n",
       "      <td>Accident on Brice Rd at Tussing Rd. Expect del...</td>\n",
       "      <td>Brice Rd</td>\n",
       "      <td>Reynoldsburg</td>\n",
       "      <td>Franklin</td>\n",
       "      <td>OH</td>\n",
       "      <td>...</td>\n",
       "      <td>False</td>\n",
       "      <td>False</td>\n",
       "      <td>False</td>\n",
       "      <td>False</td>\n",
       "      <td>False</td>\n",
       "      <td>Night</td>\n",
       "      <td>Night</td>\n",
       "      <td>Night</td>\n",
       "      <td>Day</td>\n",
       "      <td>30.0</td>\n",
       "    </tr>\n",
       "    <tr>\n",
       "      <th>2</th>\n",
       "      <td>Source2</td>\n",
       "      <td>2</td>\n",
       "      <td>2016-02-08 06:49:27</td>\n",
       "      <td>2016-02-08 07:19:27</td>\n",
       "      <td>0.01</td>\n",
       "      <td>Accident on OH-32 State Route 32 Westbound at ...</td>\n",
       "      <td>State Route 32</td>\n",
       "      <td>Williamsburg</td>\n",
       "      <td>Clermont</td>\n",
       "      <td>OH</td>\n",
       "      <td>...</td>\n",
       "      <td>False</td>\n",
       "      <td>False</td>\n",
       "      <td>False</td>\n",
       "      <td>True</td>\n",
       "      <td>False</td>\n",
       "      <td>Night</td>\n",
       "      <td>Night</td>\n",
       "      <td>Day</td>\n",
       "      <td>Day</td>\n",
       "      <td>30.0</td>\n",
       "    </tr>\n",
       "    <tr>\n",
       "      <th>3</th>\n",
       "      <td>Source2</td>\n",
       "      <td>3</td>\n",
       "      <td>2016-02-08 07:23:34</td>\n",
       "      <td>2016-02-08 07:53:34</td>\n",
       "      <td>0.01</td>\n",
       "      <td>Accident on I-75 Southbound at Exits 52 52B US...</td>\n",
       "      <td>I-75 S</td>\n",
       "      <td>Dayton</td>\n",
       "      <td>Montgomery</td>\n",
       "      <td>OH</td>\n",
       "      <td>...</td>\n",
       "      <td>False</td>\n",
       "      <td>False</td>\n",
       "      <td>False</td>\n",
       "      <td>False</td>\n",
       "      <td>False</td>\n",
       "      <td>Night</td>\n",
       "      <td>Day</td>\n",
       "      <td>Day</td>\n",
       "      <td>Day</td>\n",
       "      <td>30.0</td>\n",
       "    </tr>\n",
       "    <tr>\n",
       "      <th>4</th>\n",
       "      <td>Source2</td>\n",
       "      <td>2</td>\n",
       "      <td>2016-02-08 07:39:07</td>\n",
       "      <td>2016-02-08 08:09:07</td>\n",
       "      <td>0.01</td>\n",
       "      <td>Accident on McEwen Rd at OH-725 Miamisburg Cen...</td>\n",
       "      <td>Miamisburg Centerville Rd</td>\n",
       "      <td>Dayton</td>\n",
       "      <td>Montgomery</td>\n",
       "      <td>OH</td>\n",
       "      <td>...</td>\n",
       "      <td>False</td>\n",
       "      <td>False</td>\n",
       "      <td>False</td>\n",
       "      <td>True</td>\n",
       "      <td>False</td>\n",
       "      <td>Day</td>\n",
       "      <td>Day</td>\n",
       "      <td>Day</td>\n",
       "      <td>Day</td>\n",
       "      <td>30.0</td>\n",
       "    </tr>\n",
       "  </tbody>\n",
       "</table>\n",
       "<p>5 rows × 40 columns</p>\n",
       "</div>"
      ],
      "text/plain": [
       "    Source  Severity          Start_Time            End_Time  Distance(mi)  \\\n",
       "0  Source2         3 2016-02-08 05:46:00 2016-02-08 11:00:00          0.01   \n",
       "1  Source2         2 2016-02-08 06:07:59 2016-02-08 06:37:59          0.01   \n",
       "2  Source2         2 2016-02-08 06:49:27 2016-02-08 07:19:27          0.01   \n",
       "3  Source2         3 2016-02-08 07:23:34 2016-02-08 07:53:34          0.01   \n",
       "4  Source2         2 2016-02-08 07:39:07 2016-02-08 08:09:07          0.01   \n",
       "\n",
       "                                         Description  \\\n",
       "0  Right lane blocked due to accident on I-70 Eas...   \n",
       "1  Accident on Brice Rd at Tussing Rd. Expect del...   \n",
       "2  Accident on OH-32 State Route 32 Westbound at ...   \n",
       "3  Accident on I-75 Southbound at Exits 52 52B US...   \n",
       "4  Accident on McEwen Rd at OH-725 Miamisburg Cen...   \n",
       "\n",
       "                      Street          City      County State  ... Station  \\\n",
       "0                     I-70 E        Dayton  Montgomery    OH  ...   False   \n",
       "1                   Brice Rd  Reynoldsburg    Franklin    OH  ...   False   \n",
       "2             State Route 32  Williamsburg    Clermont    OH  ...   False   \n",
       "3                     I-75 S        Dayton  Montgomery    OH  ...   False   \n",
       "4  Miamisburg Centerville Rd        Dayton  Montgomery    OH  ...   False   \n",
       "\n",
       "    Stop Traffic_Calming Traffic_Signal Turning_Loop  Sunrise_Sunset  \\\n",
       "0  False           False          False        False           Night   \n",
       "1  False           False          False        False           Night   \n",
       "2  False           False           True        False           Night   \n",
       "3  False           False          False        False           Night   \n",
       "4  False           False           True        False             Day   \n",
       "\n",
       "   Civil_Twilight  Nautical_Twilight  Astronomical_Twilight elapsed_time  \n",
       "0           Night              Night                  Night        314.0  \n",
       "1           Night              Night                    Day         30.0  \n",
       "2           Night                Day                    Day         30.0  \n",
       "3             Day                Day                    Day         30.0  \n",
       "4             Day                Day                    Day         30.0  \n",
       "\n",
       "[5 rows x 40 columns]"
      ]
     },
     "execution_count": 28,
     "metadata": {},
     "output_type": "execute_result"
    }
   ],
   "source": [
    "#Generating the target variable\n",
    "dataset['elapsed_time'] = dataset['End_Time'] - dataset['Start_Time']\n",
    "dataset['elapsed_time'] = dataset['elapsed_time']/np.timedelta64(1,'m')\n",
    "dataset.head()"
   ]
  },
  {
   "cell_type": "code",
   "execution_count": 29,
   "metadata": {
    "execution": {
     "iopub.execute_input": "2023-11-01T01:51:23.464373Z",
     "iopub.status.busy": "2023-11-01T01:51:23.463980Z",
     "iopub.status.idle": "2023-11-01T01:51:27.935833Z",
     "shell.execute_reply": "2023-11-01T01:51:27.934664Z",
     "shell.execute_reply.started": "2023-11-01T01:51:23.464333Z"
    }
   },
   "outputs": [],
   "source": [
    "#Dropping inconsistent Values\n",
    "dataset = dataset.drop(dataset.loc[dataset.elapsed_time<0].index)"
   ]
  },
  {
   "cell_type": "code",
   "execution_count": 30,
   "metadata": {
    "execution": {
     "iopub.execute_input": "2023-11-01T01:51:27.937767Z",
     "iopub.status.busy": "2023-11-01T01:51:27.937417Z",
     "iopub.status.idle": "2023-11-01T01:51:30.116971Z",
     "shell.execute_reply": "2023-11-01T01:51:30.115659Z",
     "shell.execute_reply.started": "2023-11-01T01:51:27.937726Z"
    }
   },
   "outputs": [
    {
     "data": {
      "text/html": [
       "<div>\n",
       "<style scoped>\n",
       "    .dataframe tbody tr th:only-of-type {\n",
       "        vertical-align: middle;\n",
       "    }\n",
       "\n",
       "    .dataframe tbody tr th {\n",
       "        vertical-align: top;\n",
       "    }\n",
       "\n",
       "    .dataframe thead th {\n",
       "        text-align: right;\n",
       "    }\n",
       "</style>\n",
       "<table border=\"1\" class=\"dataframe\">\n",
       "  <thead>\n",
       "    <tr style=\"text-align: right;\">\n",
       "      <th></th>\n",
       "      <th></th>\n",
       "      <th>count</th>\n",
       "      <th>mean</th>\n",
       "      <th>std</th>\n",
       "      <th>min</th>\n",
       "      <th>20%</th>\n",
       "      <th>25%</th>\n",
       "      <th>50%</th>\n",
       "      <th>75%</th>\n",
       "      <th>80%</th>\n",
       "      <th>95%</th>\n",
       "      <th>max</th>\n",
       "    </tr>\n",
       "    <tr>\n",
       "      <th>Source</th>\n",
       "      <th>Severity</th>\n",
       "      <th></th>\n",
       "      <th></th>\n",
       "      <th></th>\n",
       "      <th></th>\n",
       "      <th></th>\n",
       "      <th></th>\n",
       "      <th></th>\n",
       "      <th></th>\n",
       "      <th></th>\n",
       "      <th></th>\n",
       "      <th></th>\n",
       "    </tr>\n",
       "  </thead>\n",
       "  <tbody>\n",
       "    <tr>\n",
       "      <th rowspan=\"4\" valign=\"top\">Source1</th>\n",
       "      <th>1</th>\n",
       "      <td>28206.0</td>\n",
       "      <td>58.957127</td>\n",
       "      <td>3130.037925</td>\n",
       "      <td>15.000000</td>\n",
       "      <td>15.000000</td>\n",
       "      <td>15.000000</td>\n",
       "      <td>34.966667</td>\n",
       "      <td>45.000000</td>\n",
       "      <td>60.000000</td>\n",
       "      <td>79.966667</td>\n",
       "      <td>5.256600e+05</td>\n",
       "    </tr>\n",
       "    <tr>\n",
       "      <th>2</th>\n",
       "      <td>3945613.0</td>\n",
       "      <td>727.069680</td>\n",
       "      <td>17811.190053</td>\n",
       "      <td>2.000000</td>\n",
       "      <td>65.050000</td>\n",
       "      <td>75.233333</td>\n",
       "      <td>106.500000</td>\n",
       "      <td>164.166667</td>\n",
       "      <td>200.750000</td>\n",
       "      <td>401.900000</td>\n",
       "      <td>2.812939e+06</td>\n",
       "    </tr>\n",
       "    <tr>\n",
       "      <th>3</th>\n",
       "      <td>161528.0</td>\n",
       "      <td>219.387244</td>\n",
       "      <td>4651.368730</td>\n",
       "      <td>8.933333</td>\n",
       "      <td>29.333333</td>\n",
       "      <td>29.500000</td>\n",
       "      <td>49.291667</td>\n",
       "      <td>360.000000</td>\n",
       "      <td>360.000000</td>\n",
       "      <td>360.000000</td>\n",
       "      <td>7.826096e+05</td>\n",
       "    </tr>\n",
       "    <tr>\n",
       "      <th>4</th>\n",
       "      <td>190285.0</td>\n",
       "      <td>1804.168190</td>\n",
       "      <td>28464.139345</td>\n",
       "      <td>6.600000</td>\n",
       "      <td>29.900000</td>\n",
       "      <td>60.000000</td>\n",
       "      <td>131.450000</td>\n",
       "      <td>360.000000</td>\n",
       "      <td>360.000000</td>\n",
       "      <td>417.083333</td>\n",
       "      <td>1.579259e+06</td>\n",
       "    </tr>\n",
       "    <tr>\n",
       "      <th rowspan=\"4\" valign=\"top\">Source2</th>\n",
       "      <th>1</th>\n",
       "      <td>35060.0</td>\n",
       "      <td>50.246548</td>\n",
       "      <td>28.119828</td>\n",
       "      <td>17.550000</td>\n",
       "      <td>29.666667</td>\n",
       "      <td>29.733333</td>\n",
       "      <td>44.900000</td>\n",
       "      <td>59.783333</td>\n",
       "      <td>60.600000</td>\n",
       "      <td>91.083333</td>\n",
       "      <td>7.847333e+02</td>\n",
       "    </tr>\n",
       "    <tr>\n",
       "      <th>2</th>\n",
       "      <td>2148978.0</td>\n",
       "      <td>54.166968</td>\n",
       "      <td>251.408621</td>\n",
       "      <td>1.916667</td>\n",
       "      <td>29.700000</td>\n",
       "      <td>29.750000</td>\n",
       "      <td>44.716667</td>\n",
       "      <td>60.216667</td>\n",
       "      <td>69.216667</td>\n",
       "      <td>117.900000</td>\n",
       "      <td>3.369600e+05</td>\n",
       "    </tr>\n",
       "    <tr>\n",
       "      <th>3</th>\n",
       "      <td>1107062.0</td>\n",
       "      <td>54.282239</td>\n",
       "      <td>288.934582</td>\n",
       "      <td>1.216667</td>\n",
       "      <td>29.550000</td>\n",
       "      <td>29.616667</td>\n",
       "      <td>44.366667</td>\n",
       "      <td>59.666667</td>\n",
       "      <td>61.200000</td>\n",
       "      <td>119.516667</td>\n",
       "      <td>1.220298e+05</td>\n",
       "    </tr>\n",
       "    <tr>\n",
       "      <th>4</th>\n",
       "      <td>14273.0</td>\n",
       "      <td>118.053140</td>\n",
       "      <td>113.589751</td>\n",
       "      <td>19.316667</td>\n",
       "      <td>46.440000</td>\n",
       "      <td>58.966667</td>\n",
       "      <td>89.283333</td>\n",
       "      <td>143.900000</td>\n",
       "      <td>164.710000</td>\n",
       "      <td>304.896667</td>\n",
       "      <td>6.730583e+03</td>\n",
       "    </tr>\n",
       "    <tr>\n",
       "      <th rowspan=\"4\" valign=\"top\">Source3</th>\n",
       "      <th>1</th>\n",
       "      <td>4100.0</td>\n",
       "      <td>48.428407</td>\n",
       "      <td>19.617313</td>\n",
       "      <td>22.883333</td>\n",
       "      <td>29.730000</td>\n",
       "      <td>29.766667</td>\n",
       "      <td>44.900000</td>\n",
       "      <td>59.800000</td>\n",
       "      <td>59.866667</td>\n",
       "      <td>80.200833</td>\n",
       "      <td>2.671333e+02</td>\n",
       "    </tr>\n",
       "    <tr>\n",
       "      <th>2</th>\n",
       "      <td>62390.0</td>\n",
       "      <td>59.093225</td>\n",
       "      <td>38.378733</td>\n",
       "      <td>18.683333</td>\n",
       "      <td>29.716667</td>\n",
       "      <td>29.783333</td>\n",
       "      <td>46.150000</td>\n",
       "      <td>74.483333</td>\n",
       "      <td>76.466667</td>\n",
       "      <td>123.292500</td>\n",
       "      <td>1.542133e+03</td>\n",
       "    </tr>\n",
       "    <tr>\n",
       "      <th>3</th>\n",
       "      <td>30747.0</td>\n",
       "      <td>54.396099</td>\n",
       "      <td>38.014097</td>\n",
       "      <td>11.600000</td>\n",
       "      <td>29.583333</td>\n",
       "      <td>29.650000</td>\n",
       "      <td>44.616667</td>\n",
       "      <td>61.216667</td>\n",
       "      <td>74.566667</td>\n",
       "      <td>120.061667</td>\n",
       "      <td>9.852333e+02</td>\n",
       "    </tr>\n",
       "    <tr>\n",
       "      <th>4</th>\n",
       "      <td>152.0</td>\n",
       "      <td>108.318860</td>\n",
       "      <td>92.395712</td>\n",
       "      <td>26.933333</td>\n",
       "      <td>44.466667</td>\n",
       "      <td>45.108333</td>\n",
       "      <td>73.083333</td>\n",
       "      <td>140.037500</td>\n",
       "      <td>163.590000</td>\n",
       "      <td>296.002500</td>\n",
       "      <td>5.876167e+02</td>\n",
       "    </tr>\n",
       "  </tbody>\n",
       "</table>\n",
       "</div>"
      ],
      "text/plain": [
       "                      count         mean           std        min        20%  \\\n",
       "Source  Severity                                                               \n",
       "Source1 1           28206.0    58.957127   3130.037925  15.000000  15.000000   \n",
       "        2         3945613.0   727.069680  17811.190053   2.000000  65.050000   \n",
       "        3          161528.0   219.387244   4651.368730   8.933333  29.333333   \n",
       "        4          190285.0  1804.168190  28464.139345   6.600000  29.900000   \n",
       "Source2 1           35060.0    50.246548     28.119828  17.550000  29.666667   \n",
       "        2         2148978.0    54.166968    251.408621   1.916667  29.700000   \n",
       "        3         1107062.0    54.282239    288.934582   1.216667  29.550000   \n",
       "        4           14273.0   118.053140    113.589751  19.316667  46.440000   \n",
       "Source3 1            4100.0    48.428407     19.617313  22.883333  29.730000   \n",
       "        2           62390.0    59.093225     38.378733  18.683333  29.716667   \n",
       "        3           30747.0    54.396099     38.014097  11.600000  29.583333   \n",
       "        4             152.0   108.318860     92.395712  26.933333  44.466667   \n",
       "\n",
       "                        25%         50%         75%         80%         95%  \\\n",
       "Source  Severity                                                              \n",
       "Source1 1         15.000000   34.966667   45.000000   60.000000   79.966667   \n",
       "        2         75.233333  106.500000  164.166667  200.750000  401.900000   \n",
       "        3         29.500000   49.291667  360.000000  360.000000  360.000000   \n",
       "        4         60.000000  131.450000  360.000000  360.000000  417.083333   \n",
       "Source2 1         29.733333   44.900000   59.783333   60.600000   91.083333   \n",
       "        2         29.750000   44.716667   60.216667   69.216667  117.900000   \n",
       "        3         29.616667   44.366667   59.666667   61.200000  119.516667   \n",
       "        4         58.966667   89.283333  143.900000  164.710000  304.896667   \n",
       "Source3 1         29.766667   44.900000   59.800000   59.866667   80.200833   \n",
       "        2         29.783333   46.150000   74.483333   76.466667  123.292500   \n",
       "        3         29.650000   44.616667   61.216667   74.566667  120.061667   \n",
       "        4         45.108333   73.083333  140.037500  163.590000  296.002500   \n",
       "\n",
       "                           max  \n",
       "Source  Severity                \n",
       "Source1 1         5.256600e+05  \n",
       "        2         2.812939e+06  \n",
       "        3         7.826096e+05  \n",
       "        4         1.579259e+06  \n",
       "Source2 1         7.847333e+02  \n",
       "        2         3.369600e+05  \n",
       "        3         1.220298e+05  \n",
       "        4         6.730583e+03  \n",
       "Source3 1         2.671333e+02  \n",
       "        2         1.542133e+03  \n",
       "        3         9.852333e+02  \n",
       "        4         5.876167e+02  "
      ]
     },
     "execution_count": 30,
     "metadata": {},
     "output_type": "execute_result"
    }
   ],
   "source": [
    "dataset.groupby(['Source','Severity'])['elapsed_time'].describe(percentiles = [0.20,0.25,0.75,0.80,0.95])\n"
   ]
  },
  {
   "cell_type": "code",
   "execution_count": 31,
   "metadata": {
    "execution": {
     "iopub.execute_input": "2023-11-01T01:51:30.124317Z",
     "iopub.status.busy": "2023-11-01T01:51:30.123831Z",
     "iopub.status.idle": "2023-11-01T01:51:32.636417Z",
     "shell.execute_reply": "2023-11-01T01:51:32.635155Z",
     "shell.execute_reply.started": "2023-11-01T01:51:30.124262Z"
    }
   },
   "outputs": [],
   "source": [
    "dataset['day_of_week']=dataset['Start_Time'].dt.weekday\n",
    "dataset['hour_of_day']=dataset['Start_Time'].dt.hour\n",
    "dataset['month_of_year']=dataset['Start_Time'].dt.month"
   ]
  },
  {
   "cell_type": "markdown",
   "metadata": {},
   "source": [
    "## Visualization"
   ]
  },
  {
   "cell_type": "code",
   "execution_count": 32,
   "metadata": {
    "execution": {
     "iopub.execute_input": "2023-11-01T01:51:32.642930Z",
     "iopub.status.busy": "2023-11-01T01:51:32.642545Z",
     "iopub.status.idle": "2023-11-01T01:51:32.647389Z",
     "shell.execute_reply": "2023-11-01T01:51:32.646418Z",
     "shell.execute_reply.started": "2023-11-01T01:51:32.642889Z"
    }
   },
   "outputs": [],
   "source": [
    "#Correlation\n",
    "\n",
    "#plt.figure(figsize=(12, 6))\n",
    "#df.drop(['id'],axis=1, inplace=False)\n",
    "#corr = data.apply(lambda x: pd.factorize(x)[0]).corr()\n",
    "#ax = sns.heatmap(corr, xticklabels=corr.columns, yticklabels=corr.columns,linewidths=.2, cmap=\"YlGnBu\")"
   ]
  },
  {
   "cell_type": "code",
   "execution_count": 33,
   "metadata": {
    "execution": {
     "iopub.execute_input": "2023-11-01T01:51:32.648963Z",
     "iopub.status.busy": "2023-11-01T01:51:32.648621Z",
     "iopub.status.idle": "2023-11-01T01:51:33.028145Z",
     "shell.execute_reply": "2023-11-01T01:51:33.026563Z",
     "shell.execute_reply.started": "2023-11-01T01:51:32.648929Z"
    }
   },
   "outputs": [
    {
     "data": {
      "image/png": "[encoded data removed]",
      "text/plain": [
       "<Figure size 576x432 with 1 Axes>"
      ]
     },
     "metadata": {
      "needs_background": "light"
     },
     "output_type": "display_data"
    }
   ],
   "source": [
    "df = pd.DataFrame(dataset.groupby(['Severity'])['elapsed_time'].mean().sort_values(ascending = False))\n",
    "df.plot.bar(figsize=(8,6))\n",
    "plt.title('Severity vs elapsed_time')\n",
    "plt.show()"
   ]
  },
  {
   "cell_type": "code",
   "execution_count": 38,
   "metadata": {
    "execution": {
     "iopub.execute_input": "2023-11-01T01:57:13.089432Z",
     "iopub.status.busy": "2023-11-01T01:57:13.088771Z",
     "iopub.status.idle": "2023-11-01T01:57:27.022244Z",
     "shell.execute_reply": "2023-11-01T01:57:27.020955Z",
     "shell.execute_reply.started": "2023-11-01T01:57:13.089376Z"
    }
   },
   "outputs": [],
   "source": [
    "df1= dataset[dataset.Source=='Source1']\n",
    "df2= dataset[dataset.Source=='Source2']\n",
    "df3= dataset[dataset.Source=='Source3']"
   ]
  },
  {
   "cell_type": "code",
   "execution_count": 39,
   "metadata": {
    "execution": {
     "iopub.execute_input": "2023-11-01T01:57:27.024930Z",
     "iopub.status.busy": "2023-11-01T01:57:27.024526Z",
     "iopub.status.idle": "2023-11-01T01:57:28.089829Z",
     "shell.execute_reply": "2023-11-01T01:57:28.088531Z",
     "shell.execute_reply.started": "2023-11-01T01:57:27.024873Z"
    }
   },
   "outputs": [
    {
     "data": {
      "text/plain": [
       "<matplotlib.axes._subplots.AxesSubplot at 0x7d054aa25e10>"
      ]
     },
     "execution_count": 39,
     "metadata": {},
     "output_type": "execute_result"
    },
    {
     "data": {
      "image/png": "[encoded data removed]",
      "text/plain": [
       "<Figure size 432x288 with 1 Axes>"
      ]
     },
     "metadata": {
      "needs_background": "light"
     },
     "output_type": "display_data"
    }
   ],
   "source": [
    "sns.barplot(x='Severity', y='elapsed_time', data=df3)"
   ]
  },
  {
   "cell_type": "code",
   "execution_count": 40,
   "metadata": {
    "execution": {
     "iopub.execute_input": "2023-11-01T01:57:28.095001Z",
     "iopub.status.busy": "2023-11-01T01:57:28.094588Z",
     "iopub.status.idle": "2023-11-01T01:57:28.325867Z",
     "shell.execute_reply": "2023-11-01T01:57:28.324707Z",
     "shell.execute_reply.started": "2023-11-01T01:57:28.094965Z"
    }
   },
   "outputs": [
    {
     "data": {
      "image/png": "[encoded data removed]",
      "text/plain": [
       "<Figure size 1800x432 with 1 Axes>"
      ]
     },
     "metadata": {
      "needs_background": "light"
     },
     "output_type": "display_data"
    }
   ],
   "source": [
    "plt.figure(figsize=(25, 6))\n",
    "\n",
    "plt.subplot(1,3,3)\n",
    "plt1 = df1.Severity.value_counts().plot(kind='bar')\n",
    "plt.title('Severity Bar plot')\n",
    "plt1.set(xlabel = 'Severity', ylabel='Frequency')\n",
    "\n",
    "plt.show()"
   ]
  },
  {
   "cell_type": "code",
   "execution_count": 41,
   "metadata": {
    "execution": {
     "iopub.execute_input": "2023-11-01T01:57:28.327486Z",
     "iopub.status.busy": "2023-11-01T01:57:28.327130Z",
     "iopub.status.idle": "2023-11-01T01:57:30.585923Z",
     "shell.execute_reply": "2023-11-01T01:57:30.584901Z",
     "shell.execute_reply.started": "2023-11-01T01:57:28.327454Z"
    }
   },
   "outputs": [
    {
     "data": {
      "image/png": "[encoded data removed]",
      "text/plain": [
       "<Figure size 432x288 with 1 Axes>"
      ]
     },
     "metadata": {
      "needs_background": "light"
     },
     "output_type": "display_data"
    },
    {
     "data": {
      "image/png": "[encoded data removed]",
      "text/plain": [
       "<Figure size 432x288 with 1 Axes>"
      ]
     },
     "metadata": {
      "needs_background": "light"
     },
     "output_type": "display_data"
    },
    {
     "data": {
      "image/png": "[encoded data removed]",
      "text/plain": [
       "<Figure size 432x288 with 1 Axes>"
      ]
     },
     "metadata": {
      "needs_background": "light"
     },
     "output_type": "display_data"
    }
   ],
   "source": [
    "sns.countplot(dataset['day_of_week'])\n",
    "plt.xlabel('Day Of Week')\n",
    "plt.ylabel('Frequency')\n",
    "plt.show()\n",
    "\n",
    "sns.countplot(dataset['hour_of_day'])\n",
    "plt.xlabel('Hour of Day')\n",
    "plt.ylabel('Frequency')\n",
    "plt.show()\n",
    "\n",
    "\n",
    "sns.countplot(dataset['month_of_year'])\n",
    "plt.xlabel('Month of Year')\n",
    "plt.ylabel('Frequency')\n",
    "plt.show()"
   ]
  },
  {
   "cell_type": "markdown",
   "metadata": {},
   "source": [
    "* Surprising behaviour on Sunday and Saturday\n",
    "* Surprising behaviour in July"
   ]
  },
  {
   "cell_type": "code",
   "execution_count": 42,
   "metadata": {
    "execution": {
     "iopub.execute_input": "2023-11-01T01:57:30.590168Z",
     "iopub.status.busy": "2023-11-01T01:57:30.589821Z",
     "iopub.status.idle": "2023-11-01T01:57:31.170012Z",
     "shell.execute_reply": "2023-11-01T01:57:31.168922Z",
     "shell.execute_reply.started": "2023-11-01T01:57:30.590135Z"
    }
   },
   "outputs": [
    {
     "data": {
      "image/png": "[encoded data removed]",
      "text/plain": [
       "<Figure size 864x432 with 1 Axes>"
      ]
     },
     "metadata": {
      "needs_background": "light"
     },
     "output_type": "display_data"
    }
   ],
   "source": [
    "plt.figure(figsize=(12,6))\n",
    "sns.distplot(dataset['Distance(mi)'], kde = False, bins = 100)\n",
    "plt.show()"
   ]
  },
  {
   "cell_type": "markdown",
   "metadata": {},
   "source": [
    "* Outliers exist in distance > 10"
   ]
  },
  {
   "cell_type": "code",
   "execution_count": 43,
   "metadata": {
    "execution": {
     "iopub.execute_input": "2023-11-01T01:57:31.174409Z",
     "iopub.status.busy": "2023-11-01T01:57:31.174001Z",
     "iopub.status.idle": "2023-11-01T01:57:35.496018Z",
     "shell.execute_reply": "2023-11-01T01:57:35.494975Z",
     "shell.execute_reply.started": "2023-11-01T01:57:31.174372Z"
    }
   },
   "outputs": [
    {
     "data": {
      "image/png": "[encoded data removed]",
      "text/plain": [
       "<Figure size 864x432 with 1 Axes>"
      ]
     },
     "metadata": {
      "needs_background": "light"
     },
     "output_type": "display_data"
    }
   ],
   "source": [
    "df= dataset[dataset['Distance(mi)']<10]\n",
    "plt.figure(figsize=(12,6))\n",
    "sns.distplot(df['Distance(mi)'], kde = False, bins = 100)\n",
    "plt.show()"
   ]
  },
  {
   "cell_type": "code",
   "execution_count": 44,
   "metadata": {
    "execution": {
     "iopub.execute_input": "2023-11-01T01:57:35.497707Z",
     "iopub.status.busy": "2023-11-01T01:57:35.497344Z",
     "iopub.status.idle": "2023-11-01T01:57:37.643438Z",
     "shell.execute_reply": "2023-11-01T01:57:37.642265Z",
     "shell.execute_reply.started": "2023-11-01T01:57:35.497662Z"
    }
   },
   "outputs": [
    {
     "data": {
      "text/plain": [
       "336306"
      ]
     },
     "execution_count": 44,
     "metadata": {},
     "output_type": "execute_result"
    }
   ],
   "source": [
    "dataset.Street.nunique()"
   ]
  },
  {
   "cell_type": "code",
   "execution_count": null,
   "metadata": {
    "execution": {
     "iopub.status.busy": "2023-11-01T01:57:37.673664Z",
     "iopub.status.idle": "2023-11-01T01:57:37.674207Z"
    }
   },
   "outputs": [],
   "source": [
    "dd = dataset[~(dataset['Side']==' ')]\n",
    "dd.Side.unique()"
   ]
  },
  {
   "cell_type": "code",
   "execution_count": null,
   "metadata": {
    "execution": {
     "iopub.status.busy": "2023-11-01T01:57:37.675676Z",
     "iopub.status.idle": "2023-11-01T01:57:37.676490Z"
    }
   },
   "outputs": [],
   "source": [
    "sns.countplot(dd['Side'])\n",
    "plt.xlabel('Side')\n",
    "plt.ylabel('Frequency')\n",
    "plt.show()"
   ]
  },
  {
   "cell_type": "markdown",
   "metadata": {},
   "source": [
    "* Theory: Left hand drive in the USA, so right hand side more amount of accidents due to vision hinderence."
   ]
  },
  {
   "cell_type": "code",
   "execution_count": 46,
   "metadata": {
    "execution": {
     "iopub.execute_input": "2023-11-01T01:59:55.737441Z",
     "iopub.status.busy": "2023-11-01T01:59:55.736921Z",
     "iopub.status.idle": "2023-11-01T01:59:58.138252Z",
     "shell.execute_reply": "2023-11-01T01:59:58.137205Z",
     "shell.execute_reply.started": "2023-11-01T01:59:55.737394Z"
    }
   },
   "outputs": [
    {
     "data": {
      "text/plain": [
       "825094"
      ]
     },
     "execution_count": 46,
     "metadata": {},
     "output_type": "execute_result"
    }
   ],
   "source": [
    "dataset.Zipcode.nunique()"
   ]
  },
  {
   "cell_type": "code",
   "execution_count": 47,
   "metadata": {
    "execution": {
     "iopub.execute_input": "2023-11-01T01:59:58.140505Z",
     "iopub.status.busy": "2023-11-01T01:59:58.140153Z",
     "iopub.status.idle": "2023-11-01T02:00:01.925579Z",
     "shell.execute_reply": "2023-11-01T02:00:01.924597Z",
     "shell.execute_reply.started": "2023-11-01T01:59:58.140473Z"
    }
   },
   "outputs": [
    {
     "data": {
      "image/png": "[encoded data removed]",
      "text/plain": [
       "<Figure size 432x288 with 1 Axes>"
      ]
     },
     "metadata": {
      "needs_background": "light"
     },
     "output_type": "display_data"
    }
   ],
   "source": [
    "sns.countplot(dataset['Timezone'])\n",
    "plt.xlabel('Timezone')\n",
    "plt.ylabel('Frequency')\n",
    "plt.show()"
   ]
  },
  {
   "cell_type": "code",
   "execution_count": 48,
   "metadata": {
    "execution": {
     "iopub.execute_input": "2023-11-01T02:00:01.927610Z",
     "iopub.status.busy": "2023-11-01T02:00:01.927225Z",
     "iopub.status.idle": "2023-11-01T02:00:02.933035Z",
     "shell.execute_reply": "2023-11-01T02:00:02.931428Z",
     "shell.execute_reply.started": "2023-11-01T02:00:01.927575Z"
    }
   },
   "outputs": [
    {
     "data": {
      "text/plain": [
       "2045"
      ]
     },
     "execution_count": 48,
     "metadata": {},
     "output_type": "execute_result"
    }
   ],
   "source": [
    "dataset.Airport_Code.nunique()"
   ]
  },
  {
   "cell_type": "code",
   "execution_count": 49,
   "metadata": {
    "execution": {
     "iopub.execute_input": "2023-11-01T02:00:02.935760Z",
     "iopub.status.busy": "2023-11-01T02:00:02.934850Z",
     "iopub.status.idle": "2023-11-01T02:00:29.953630Z",
     "shell.execute_reply": "2023-11-01T02:00:29.952140Z",
     "shell.execute_reply.started": "2023-11-01T02:00:02.935678Z"
    }
   },
   "outputs": [
    {
     "data": {
      "image/png": "[encoded data removed]",
      "text/plain": [
       "<Figure size 432x288 with 1 Axes>"
      ]
     },
     "metadata": {
      "needs_background": "light"
     },
     "output_type": "display_data"
    }
   ],
   "source": [
    "sns.countplot(dataset['Airport_Code'])\n",
    "plt.xlabel('Airport_Code')\n",
    "plt.ylabel('Frequency')\n",
    "plt.show()"
   ]
  },
  {
   "cell_type": "code",
   "execution_count": 50,
   "metadata": {
    "execution": {
     "iopub.execute_input": "2023-11-01T02:00:29.958922Z",
     "iopub.status.busy": "2023-11-01T02:00:29.958234Z",
     "iopub.status.idle": "2023-11-01T02:00:32.374490Z",
     "shell.execute_reply": "2023-11-01T02:00:32.373245Z",
     "shell.execute_reply.started": "2023-11-01T02:00:29.958866Z"
    }
   },
   "outputs": [
    {
     "data": {
      "text/plain": [
       "941331"
      ]
     },
     "execution_count": 50,
     "metadata": {},
     "output_type": "execute_result"
    }
   ],
   "source": [
    "dataset.Weather_Timestamp.nunique()"
   ]
  },
  {
   "cell_type": "code",
   "execution_count": 51,
   "metadata": {
    "execution": {
     "iopub.execute_input": "2023-11-01T02:00:32.379183Z",
     "iopub.status.busy": "2023-11-01T02:00:32.378744Z",
     "iopub.status.idle": "2023-11-01T02:00:32.480905Z",
     "shell.execute_reply": "2023-11-01T02:00:32.479751Z",
     "shell.execute_reply.started": "2023-11-01T02:00:32.379142Z"
    }
   },
   "outputs": [
    {
     "data": {
      "text/plain": [
       " 77.0     170991\n",
       " 73.0     170898\n",
       " 68.0     163767\n",
       " 72.0     160498\n",
       " 75.0     158448\n",
       "           ...  \n",
       "-12.6          1\n",
       "-24.2          1\n",
       " 132.8         1\n",
       "-23.4          1\n",
       " 143.6         1\n",
       "Name: Temperature(F), Length: 860, dtype: int64"
      ]
     },
     "execution_count": 51,
     "metadata": {},
     "output_type": "execute_result"
    }
   ],
   "source": [
    "dataset['Temperature(F)'].value_counts()"
   ]
  },
  {
   "cell_type": "code",
   "execution_count": 52,
   "metadata": {
    "execution": {
     "iopub.execute_input": "2023-11-01T02:00:32.482911Z",
     "iopub.status.busy": "2023-11-01T02:00:32.482567Z",
     "iopub.status.idle": "2023-11-01T02:00:33.069597Z",
     "shell.execute_reply": "2023-11-01T02:00:33.068436Z",
     "shell.execute_reply.started": "2023-11-01T02:00:32.482878Z"
    }
   },
   "outputs": [
    {
     "data": {
      "image/png": "[encoded data removed]",
      "text/plain": [
       "<Figure size 864x432 with 1 Axes>"
      ]
     },
     "metadata": {
      "needs_background": "light"
     },
     "output_type": "display_data"
    }
   ],
   "source": [
    "plt.figure(figsize=(12,6))\n",
    "sns.distplot(dataset['Temperature(F)'], kde = False, bins = 100)\n",
    "plt.show()"
   ]
  },
  {
   "cell_type": "markdown",
   "metadata": {},
   "source": [
    "* Most number of accidents occur at room temperature"
   ]
  },
  {
   "cell_type": "code",
   "execution_count": 53,
   "metadata": {
    "execution": {
     "iopub.execute_input": "2023-11-01T02:00:33.071970Z",
     "iopub.status.busy": "2023-11-01T02:00:33.071487Z",
     "iopub.status.idle": "2023-11-01T02:00:33.653617Z",
     "shell.execute_reply": "2023-11-01T02:00:33.652469Z",
     "shell.execute_reply.started": "2023-11-01T02:00:33.071919Z"
    }
   },
   "outputs": [
    {
     "data": {
      "image/png": "[encoded data removed]",
      "text/plain": [
       "<Figure size 864x432 with 1 Axes>"
      ]
     },
     "metadata": {
      "needs_background": "light"
     },
     "output_type": "display_data"
    }
   ],
   "source": [
    "plt.figure(figsize=(12,6))\n",
    "sns.distplot(dataset['Humidity(%)'], kde = False, bins = 100)\n",
    "plt.show()"
   ]
  },
  {
   "cell_type": "markdown",
   "metadata": {},
   "source": [
    "* Number of Accidents spike up in the range of Humidity from 90 to 100.\n",
    "* Humidity(%) has a linear relationship with the frequency of accidents."
   ]
  },
  {
   "cell_type": "code",
   "execution_count": 54,
   "metadata": {
    "execution": {
     "iopub.execute_input": "2023-11-01T02:00:33.656258Z",
     "iopub.status.busy": "2023-11-01T02:00:33.655655Z",
     "iopub.status.idle": "2023-11-01T02:00:34.218711Z",
     "shell.execute_reply": "2023-11-01T02:00:34.217418Z",
     "shell.execute_reply.started": "2023-11-01T02:00:33.656205Z"
    }
   },
   "outputs": [
    {
     "data": {
      "image/png": "[encoded data removed]",
      "text/plain": [
       "<Figure size 864x432 with 1 Axes>"
      ]
     },
     "metadata": {
      "needs_background": "light"
     },
     "output_type": "display_data"
    }
   ],
   "source": [
    "plt.figure(figsize=(12,6))\n",
    "sns.distplot(dataset['Pressure(in)'], kde = False, bins = 100)\n",
    "plt.show()"
   ]
  },
  {
   "cell_type": "code",
   "execution_count": 55,
   "metadata": {
    "execution": {
     "iopub.execute_input": "2023-11-01T02:00:34.221250Z",
     "iopub.status.busy": "2023-11-01T02:00:34.220764Z",
     "iopub.status.idle": "2023-11-01T02:00:34.785394Z",
     "shell.execute_reply": "2023-11-01T02:00:34.784388Z",
     "shell.execute_reply.started": "2023-11-01T02:00:34.221198Z"
    }
   },
   "outputs": [
    {
     "data": {
      "image/png": "[encoded data removed]",
      "text/plain": [
       "<Figure size 864x432 with 1 Axes>"
      ]
     },
     "metadata": {
      "needs_background": "light"
     },
     "output_type": "display_data"
    }
   ],
   "source": [
    "plt.figure(figsize=(12,6))\n",
    "sns.distplot(dataset['Visibility(mi)'], kde = False, bins = 100)\n",
    "plt.show()"
   ]
  },
  {
   "cell_type": "code",
   "execution_count": 56,
   "metadata": {
    "execution": {
     "iopub.execute_input": "2023-11-01T02:00:34.787613Z",
     "iopub.status.busy": "2023-11-01T02:00:34.787228Z",
     "iopub.status.idle": "2023-11-01T02:00:36.882824Z",
     "shell.execute_reply": "2023-11-01T02:00:36.881720Z",
     "shell.execute_reply.started": "2023-11-01T02:00:34.787575Z"
    }
   },
   "outputs": [
    {
     "data": {
      "text/plain": [
       "CALM        961624\n",
       "S           419989\n",
       "SSW         384840\n",
       "W           383913\n",
       "WNW         378781\n",
       "NW          369352\n",
       "Calm        368557\n",
       "SW          364470\n",
       "WSW         353806\n",
       "SSE         349110\n",
       "NNW         333427\n",
       "N           307151\n",
       "SE          294901\n",
       "E           278914\n",
       "ESE         268311\n",
       "NE          258639\n",
       "ENE         258474\n",
       "NNE         255311\n",
       "VAR         250566\n",
       "South       177375\n",
       "West        164751\n",
       "North       153385\n",
       "Variable    113996\n",
       "East        103545\n",
       "Name: Wind_Direction, dtype: int64"
      ]
     },
     "execution_count": 56,
     "metadata": {},
     "output_type": "execute_result"
    }
   ],
   "source": [
    "dataset['Wind_Direction'].value_counts()\n",
    "#Drop it, this is bs"
   ]
  },
  {
   "cell_type": "code",
   "execution_count": 57,
   "metadata": {
    "execution": {
     "iopub.execute_input": "2023-11-01T02:00:36.884971Z",
     "iopub.status.busy": "2023-11-01T02:00:36.884513Z",
     "iopub.status.idle": "2023-11-01T02:00:38.154136Z",
     "shell.execute_reply": "2023-11-01T02:00:38.152970Z",
     "shell.execute_reply.started": "2023-11-01T02:00:36.884932Z"
    }
   },
   "outputs": [
    {
     "data": {
      "image/png": "[encoded data removed]",
      "text/plain": [
       "<Figure size 864x432 with 1 Axes>"
      ]
     },
     "metadata": {
      "needs_background": "light"
     },
     "output_type": "display_data"
    }
   ],
   "source": [
    "plt.figure(figsize=(12,6))\n",
    "sns.distplot(dataset['Wind_Speed(mph)'], kde = False, bins = 200)\n",
    "plt.show()"
   ]
  },
  {
   "cell_type": "code",
   "execution_count": 58,
   "metadata": {
    "execution": {
     "iopub.execute_input": "2023-11-01T02:00:38.156262Z",
     "iopub.status.busy": "2023-11-01T02:00:38.155907Z",
     "iopub.status.idle": "2023-11-01T02:00:38.481245Z",
     "shell.execute_reply": "2023-11-01T02:00:38.480034Z",
     "shell.execute_reply.started": "2023-11-01T02:00:38.156226Z"
    }
   },
   "outputs": [
    {
     "data": {
      "text/plain": [
       "count    7.157161e+06\n",
       "mean     7.685490e+00\n",
       "std      5.424983e+00\n",
       "min      0.000000e+00\n",
       "25%      4.600000e+00\n",
       "50%      7.000000e+00\n",
       "75%      1.040000e+01\n",
       "max      1.087000e+03\n",
       "Name: Wind_Speed(mph), dtype: float64"
      ]
     },
     "execution_count": 58,
     "metadata": {},
     "output_type": "execute_result"
    }
   ],
   "source": [
    "dataset['Wind_Speed(mph)'].describe()"
   ]
  },
  {
   "cell_type": "code",
   "execution_count": 59,
   "metadata": {
    "execution": {
     "iopub.execute_input": "2023-11-01T02:00:38.483399Z",
     "iopub.status.busy": "2023-11-01T02:00:38.482926Z",
     "iopub.status.idle": "2023-11-01T02:00:45.496765Z",
     "shell.execute_reply": "2023-11-01T02:00:45.495500Z",
     "shell.execute_reply.started": "2023-11-01T02:00:38.483360Z"
    }
   },
   "outputs": [],
   "source": [
    "d = dataset.copy()\n",
    "dataset['Wind_Speed(kph)']=dataset['Wind_Speed(mph)']*1.61\n",
    "dataset= dataset.drop(columns=['Wind_Speed(mph)'], axis=1)"
   ]
  },
  {
   "cell_type": "code",
   "execution_count": 60,
   "metadata": {
    "execution": {
     "iopub.execute_input": "2023-11-01T02:00:45.498565Z",
     "iopub.status.busy": "2023-11-01T02:00:45.498219Z",
     "iopub.status.idle": "2023-11-01T02:00:46.059333Z",
     "shell.execute_reply": "2023-11-01T02:00:46.058224Z",
     "shell.execute_reply.started": "2023-11-01T02:00:45.498532Z"
    }
   },
   "outputs": [
    {
     "data": {
      "image/png": "[encoded data removed]",
      "text/plain": [
       "<Figure size 864x432 with 1 Axes>"
      ]
     },
     "metadata": {
      "needs_background": "light"
     },
     "output_type": "display_data"
    }
   ],
   "source": [
    "plt.figure(figsize=(12,6))\n",
    "sns.distplot(dataset['Wind_Speed(kph)'], kde = False, bins = 100)\n",
    "plt.show()"
   ]
  }
 ],
 "metadata": {
  "kernelspec": {
   "display_name": "Python 3 (ipykernel)",
   "language": "python",
   "name": "python3"
  },
  "language_info": {
   "codemirror_mode": {
    "name": "ipython",
    "version": 3
   },
   "file_extension": ".py",
   "mimetype": "text/x-python",
   "name": "python",
   "nbconvert_exporter": "python",
   "pygments_lexer": "ipython3",
   "version": "3.9.7"
  }
 },
 "nbformat": 4,
 "nbformat_minor": 4
}
